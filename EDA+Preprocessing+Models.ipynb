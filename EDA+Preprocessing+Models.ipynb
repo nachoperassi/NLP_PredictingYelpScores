{
 "cells": [
  {
   "cell_type": "markdown",
   "metadata": {},
   "source": [
    "# A little exploratory analysis"
   ]
  },
  {
   "cell_type": "code",
   "execution_count": 1,
   "metadata": {},
   "outputs": [],
   "source": [
    "import pandas as pd\n",
    "pd.options.display.max_colwidth = 1000\n",
    "\n",
    "from matplotlib import pyplot as plt\n",
    "%matplotlib inline"
   ]
  },
  {
   "cell_type": "code",
   "execution_count": 2,
   "metadata": {},
   "outputs": [],
   "source": [
    "dataset = pd.read_csv('./yelp.csv')"
   ]
  },
  {
   "cell_type": "markdown",
   "metadata": {},
   "source": [
    "### Volumetry"
   ]
  },
  {
   "cell_type": "code",
   "execution_count": 3,
   "metadata": {},
   "outputs": [
    {
     "name": "stdout",
     "output_type": "stream",
     "text": [
      "Number of variables: 10\n",
      "Number of rows: 10000\n"
     ]
    }
   ],
   "source": [
    "print('Number of variables:', dataset.shape[1])\n",
    "print('Number of rows:', dataset.shape[0])"
   ]
  },
  {
   "cell_type": "markdown",
   "metadata": {},
   "source": [
    "### Quantity and types of variables"
   ]
  },
  {
   "cell_type": "code",
   "execution_count": 4,
   "metadata": {},
   "outputs": [
    {
     "data": {
      "text/plain": [
       "business_id    object\n",
       "date           object\n",
       "review_id      object\n",
       "stars           int64\n",
       "text           object\n",
       "type           object\n",
       "user_id        object\n",
       "cool            int64\n",
       "useful          int64\n",
       "funny           int64\n",
       "dtype: object"
      ]
     },
     "execution_count": 4,
     "metadata": {},
     "output_type": "execute_result"
    }
   ],
   "source": [
    "dataset.dtypes"
   ]
  },
  {
   "cell_type": "markdown",
   "metadata": {},
   "source": [
    "### Does the column contain null values?"
   ]
  },
  {
   "cell_type": "code",
   "execution_count": 5,
   "metadata": {},
   "outputs": [
    {
     "data": {
      "text/plain": [
       "business_id    False\n",
       "date           False\n",
       "review_id      False\n",
       "stars          False\n",
       "text           False\n",
       "type           False\n",
       "user_id        False\n",
       "cool           False\n",
       "useful         False\n",
       "funny          False\n",
       "dtype: bool"
      ]
     },
     "execution_count": 5,
     "metadata": {},
     "output_type": "execute_result"
    }
   ],
   "source": [
    "dataset.isna().any()"
   ]
  },
  {
   "cell_type": "markdown",
   "metadata": {},
   "source": [
    "### Balance of the output variable"
   ]
  },
  {
   "cell_type": "code",
   "execution_count": 6,
   "metadata": {},
   "outputs": [
    {
     "data": {
      "text/plain": [
       "<matplotlib.axes._subplots.AxesSubplot at 0x7f795c5eeef0>"
      ]
     },
     "execution_count": 6,
     "metadata": {},
     "output_type": "execute_result"
    },
    {
     "data": {
      "image/png": "[encoded data removed]",
      "text/plain": [
       "<Figure size 360x360 with 1 Axes>"
      ]
     },
     "metadata": {},
     "output_type": "display_data"
    }
   ],
   "source": [
    "dataset.stars.value_counts().plot.pie(figsize=(5,5))"
   ]
  },
  {
   "cell_type": "markdown",
   "metadata": {},
   "source": [
    "#### The output variable is extremely unblanced. The values '4' and '5' appear more than twice than the other values."
   ]
  },
  {
   "cell_type": "markdown",
   "metadata": {},
   "source": [
    "# Data preprocessing"
   ]
  },
  {
   "cell_type": "markdown",
   "metadata": {},
   "source": [
    "### Let's take only the review text colum from the dataset"
   ]
  },
  {
   "cell_type": "code",
   "execution_count": 7,
   "metadata": {},
   "outputs": [],
   "source": [
    "reviews = dataset.text"
   ]
  },
  {
   "cell_type": "markdown",
   "metadata": {},
   "source": [
    "### Next, we need to tokenize the text, remove stopwords and punctuation, apply stemming and get the 'Bag of words' (unique words and its number of occurrences)"
   ]
  },
  {
   "cell_type": "code",
   "execution_count": 9,
   "metadata": {},
   "outputs": [
    {
     "name": "stdout",
     "output_type": "stream",
     "text": [
      "(10000, 21088)\n"
     ]
    }
   ],
   "source": [
    "import string\n",
    "\n",
    "from nltk import word_tokenize\n",
    "\n",
    "from nltk.corpus import stopwords\n",
    "\n",
    "from nltk.stem.snowball import SnowballStemmer\n",
    "from nltk.stem.porter import PorterStemmer\n",
    "\n",
    "from sklearn.feature_extraction.text import CountVectorizer\n",
    "\n",
    "tokens = reviews.apply(word_tokenize)\n",
    "\n",
    "filtered_tokens = tokens.apply(\n",
    "    lambda x: [token for token in x if token not in stopwords.words('english')])\n",
    "\n",
    "even_more_filtered_tokens = filtered_tokens.apply(\n",
    "    lambda x: [token for token in x if token not in string.punctuation])\n",
    "\n",
    "stemmer = SnowballStemmer('english')\n",
    "stemmed_tokens = even_more_filtered_tokens.apply(\n",
    "    lambda x: [stemmer.stem(token) for token in x])\n",
    "\n",
    "# In stemmed_tokens, every example is a list of tokens,\n",
    "# Apparently, CountVectorizer doesn't accept this structure\n",
    "# So we need to go back to a string, but this time with the punctuation removed\n",
    "# and the stemmed words\n",
    "\n",
    "stemmed_strings = stemmed_tokens.apply(lambda x: ' '.join(x))\n",
    "\n",
    "count_vectorizer = CountVectorizer()\n",
    "bag_of_words = count_vectorizer.fit_transform(stemmed_strings)\n",
    "print(bag_of_words.shape)"
   ]
  },
  {
   "cell_type": "markdown",
   "metadata": {},
   "source": [
    "# Machine Learning"
   ]
  },
  {
   "cell_type": "markdown",
   "metadata": {},
   "source": [
    "### First, we want to prepare the INPUT and OUTPUT datasets for the models."
   ]
  },
  {
   "cell_type": "code",
   "execution_count": 13,
   "metadata": {},
   "outputs": [],
   "source": [
    "INPUT = pd.DataFrame(bag_of_words.toarray(), columns=count_vectorizer.get_feature_names())\n",
    "\n",
    "# Use the 'stars' column from the original dataset as the OUTPUT for the model\n",
    "OUTPUT = dataset.stars"
   ]
  },
  {
   "cell_type": "markdown",
   "metadata": {},
   "source": [
    "### Let's test if the INPUT and OUTPUT datasets contain the same number of rows..."
   ]
  },
  {
   "cell_type": "code",
   "execution_count": 14,
   "metadata": {},
   "outputs": [
    {
     "name": "stdout",
     "output_type": "stream",
     "text": [
      "(10000, 21088)\n",
      "(10000,)\n"
     ]
    }
   ],
   "source": [
    "print(INPUT.shape)\n",
    "print(OUTPUT.shape)"
   ]
  },
  {
   "cell_type": "markdown",
   "metadata": {},
   "source": [
    "### Now, we have to split those datasets into TRAIN and TEST."
   ]
  },
  {
   "cell_type": "code",
   "execution_count": 15,
   "metadata": {
    "scrolled": true
   },
   "outputs": [
    {
     "name": "stdout",
     "output_type": "stream",
     "text": [
      "(7000, 21088)\n",
      "(3000, 21088)\n",
      "(7000,)\n",
      "(3000,)\n"
     ]
    }
   ],
   "source": [
    "from sklearn.cross_validation import train_test_split\n",
    "\n",
    "TRAIN_INPUT, TEST_INPUT, TRAIN_OUTPUT, TEST_OUTPUT = train_test_split(INPUT, OUTPUT, test_size=0.3)\n",
    "\n",
    "print(TRAIN_INPUT.shape)\n",
    "print(TEST_INPUT.shape)\n",
    "\n",
    "print(TRAIN_OUTPUT.shape)\n",
    "print(TEST_OUTPUT.shape)"
   ]
  },
  {
   "cell_type": "markdown",
   "metadata": {},
   "source": [
    "# Models:"
   ]
  },
  {
   "cell_type": "markdown",
   "metadata": {},
   "source": [
    "### First, let's define a function to evaluate the models"
   ]
  },
  {
   "cell_type": "code",
   "execution_count": 16,
   "metadata": {},
   "outputs": [],
   "source": [
    "from matplotlib import pyplot as plt\n",
    "from sklearn.metrics import accuracy_score, precision_score, recall_score, confusion_matrix\n",
    "\n",
    "def evaluate_model(model):\n",
    "    sets = [('TRAIN', [TRAIN_INPUT, TRAIN_OUTPUT]), ('TEST', [TEST_INPUT, TEST_OUTPUT])]\n",
    "        \n",
    "    for set_name, set_data in sets:\n",
    "        inputs = set_data[0]\n",
    "        outputs = set_data[1]\n",
    "        predictions = model.predict(inputs)\n",
    "        \n",
    "        print(set_name, '#' * 80)\n",
    "        \n",
    "        # print metrics\n",
    "        \n",
    "        print('Accuracy:', accuracy_score(outputs, predictions))\n",
    "        print('Precision:', precision_score(outputs, predictions, average='weighted'))\n",
    "        print('Recall:', recall_score(outputs, predictions, average='weighted'))\n",
    "        print()\n",
    "        \n",
    "        # plot confussion matrix\n",
    "        \n",
    "        plt.figure(figsize=(3,4))\n",
    "        \n",
    "        plt.xticks([0,1,2,3,4], ['1','2','3','4','5'])\n",
    "        plt.yticks([0,1,2,3,4], ['1','2','3','4','5'])\n",
    "        plt.xlabel('Predicted class')\n",
    "        plt.ylabel('True class')\n",
    "\n",
    "        plt.title(set_name)\n",
    "\n",
    "        plt.imshow(\n",
    "            confusion_matrix(outputs, predictions), \n",
    "            cmap=plt.cm.Blues, \n",
    "            interpolation='nearest',\n",
    "        )\n",
    "\n",
    "        plt.show()"
   ]
  },
  {
   "cell_type": "markdown",
   "metadata": {},
   "source": [
    "### Time to train and evaluate our first model: a logistic regression"
   ]
  },
  {
   "cell_type": "code",
   "execution_count": 17,
   "metadata": {},
   "outputs": [
    {
     "name": "stdout",
     "output_type": "stream",
     "text": [
      "TRAIN ################################################################################\n",
      "Accuracy: 0.9621428571428572\n",
      "Precision: 0.9626007873355756\n",
      "Recall: 0.9621428571428572\n",
      "\n"
     ]
    },
    {
     "data": {
      "image/png": "[encoded data removed]",
      "text/plain": [
       "<Figure size 216x288 with 1 Axes>"
      ]
     },
     "metadata": {},
     "output_type": "display_data"
    },
    {
     "name": "stdout",
     "output_type": "stream",
     "text": [
      "TEST ################################################################################\n",
      "Accuracy: 0.49766666666666665\n",
      "Precision: 0.4932449544836181\n",
      "Recall: 0.49766666666666665\n",
      "\n"
     ]
    },
    {
     "data": {
      "image/png": "[encoded data removed]",
      "text/plain": [
       "<Figure size 216x288 with 1 Axes>"
      ]
     },
     "metadata": {},
     "output_type": "display_data"
    }
   ],
   "source": [
    "from sklearn.linear_model import LogisticRegression\n",
    "\n",
    "lr_classifier = LogisticRegression()\n",
    "\n",
    "lr_classifier.fit(TRAIN_INPUT, TRAIN_OUTPUT)\n",
    "\n",
    "evaluate_model(lr_classifier)"
   ]
  },
  {
   "cell_type": "markdown",
   "metadata": {},
   "source": [
    "### Second try! Naive Bayes"
   ]
  },
  {
   "cell_type": "code",
   "execution_count": 18,
   "metadata": {},
   "outputs": [
    {
     "name": "stdout",
     "output_type": "stream",
     "text": [
      "TRAIN ################################################################################\n",
      "Accuracy: 0.7454285714285714\n",
      "Precision: 0.7811662457237659\n",
      "Recall: 0.7454285714285714\n",
      "\n"
     ]
    },
    {
     "data": {
      "image/png": "[encoded data removed]",
      "text/plain": [
       "<Figure size 216x288 with 1 Axes>"
      ]
     },
     "metadata": {},
     "output_type": "display_data"
    },
    {
     "name": "stdout",
     "output_type": "stream",
     "text": [
      "TEST ################################################################################\n",
      "Accuracy: 0.49033333333333334\n",
      "Precision: 0.49348745737140576\n",
      "Recall: 0.49033333333333334\n",
      "\n"
     ]
    },
    {
     "data": {
      "image/png": "[encoded data removed]",
      "text/plain": [
       "<Figure size 216x288 with 1 Axes>"
      ]
     },
     "metadata": {},
     "output_type": "display_data"
    }
   ],
   "source": [
    "# Naive Bayes\n",
    "from sklearn.naive_bayes import MultinomialNB\n",
    "nb_classifier = MultinomialNB().fit(TRAIN_INPUT, TRAIN_OUTPUT)\n",
    "evaluate_model(nb_classifier)"
   ]
  },
  {
   "cell_type": "markdown",
   "metadata": {},
   "source": [
    "# Conclusions:\n",
    "\n",
    "The models are not getting good results with the test dataset.\n",
    "\n",
    "As we can see in the confussion matrix, the models are having problems to differentiate '4 stars' from '5 stars'.\n",
    "\n",
    "The first reason why we can not achieve good predictions is the great imbalance of the output variable (many more examples of 4 and 5 stars than all others).\n",
    "\n",
    "Another reason why the models are confusing 4 and 5 stars may be the similarity between the words used in the reviews."
   ]
  },
  {
   "cell_type": "markdown",
   "metadata": {},
   "source": [
    "# What can we do to solve these problems?"
   ]
  },
  {
   "cell_type": "markdown",
   "metadata": {},
   "source": [
    "### In the first instance, instead of trying to predict the exact star rating, we’ll try to classify the posts into positive (4- or 5-star reviews) or negative (1- or 2-star reviews). So, we’ll also remove all the 3-star reviews for this task."
   ]
  },
  {
   "cell_type": "code",
   "execution_count": 39,
   "metadata": {},
   "outputs": [],
   "source": [
    "dataset = pd.read_csv('./yelp.csv')\n",
    "\n",
    "negative_reviews = dataset[dataset.stars < 3]\n",
    "\n",
    "positive_reviews = dataset[dataset.stars > 3][:1600]"
   ]
  },
  {
   "cell_type": "markdown",
   "metadata": {},
   "source": [
    "##### (We only take 1600 cases where the star review is higher than 3, to reduce the imbalance in the data)"
   ]
  },
  {
   "cell_type": "code",
   "execution_count": 40,
   "metadata": {},
   "outputs": [],
   "source": [
    "reviews = negative_reviews.append(positive_reviews)"
   ]
  },
  {
   "cell_type": "code",
   "execution_count": 41,
   "metadata": {},
   "outputs": [],
   "source": [
    "reviews['positive'] = (reviews.stars > 3)"
   ]
  },
  {
   "cell_type": "code",
   "execution_count": 42,
   "metadata": {},
   "outputs": [
    {
     "data": {
      "text/plain": [
       "2    927\n",
       "4    807\n",
       "5    793\n",
       "1    749\n",
       "Name: stars, dtype: int64"
      ]
     },
     "execution_count": 42,
     "metadata": {},
     "output_type": "execute_result"
    }
   ],
   "source": [
    "reviews.stars.value_counts()"
   ]
  },
  {
   "cell_type": "markdown",
   "metadata": {},
   "source": [
    "# A bit more of tuning...\n",
    "\n",
    "#### We try using TFID Vectorizer instead of Count Vectorizer, since the first one adjusts better to the fact that some words appear more frequently than others"
   ]
  },
  {
   "cell_type": "code",
   "execution_count": null,
   "metadata": {},
   "outputs": [],
   "source": [
    "from sklearn.feature_extraction.text import TfidfVectorizer\n",
    "\n",
    "tokens = reviews.text.apply(word_tokenize)\n",
    "print(tokens.head(1))\n",
    "\n",
    "filtered_tokens = tokens.apply(\n",
    "    lambda x: [token for token in x if token not in stopwords.words('english')])\n",
    "\n",
    "even_more_filtered_tokens = filtered_tokens.apply(\n",
    "    lambda x: [token for token in x if token not in string.punctuation])\n",
    "\n",
    "stemmer = SnowballStemmer('english')\n",
    "stemmed_tokens = even_more_filtered_tokens.apply(\n",
    "    lambda x: [stemmer.stem(token) for token in x])\n",
    "\n",
    "stemmed_strings = stemmed_tokens.apply(lambda x: ' '.join(x))\n",
    "\n",
    "tfidf_vectorizer = TfidfVectorizer(ngram_range=(1,2))\n",
    "\n",
    "bag_of_words = count_vectorizer.fit_transform(stemmed_strings)\n",
    "print(bag_of_words.shape)"
   ]
  },
  {
   "cell_type": "code",
   "execution_count": 52,
   "metadata": {},
   "outputs": [
    {
     "name": "stdout",
     "output_type": "stream",
     "text": [
      "(3276, 13021)\n",
      "(3276,)\n"
     ]
    }
   ],
   "source": [
    "INPUT = pd.DataFrame(bag_of_words.toarray(), columns=count_vectorizer.get_feature_names())\n",
    "OUTPUT = reviews.positive\n",
    "\n",
    "print(INPUT.shape)\n",
    "print(OUTPUT.shape)"
   ]
  },
  {
   "cell_type": "code",
   "execution_count": 53,
   "metadata": {},
   "outputs": [
    {
     "name": "stdout",
     "output_type": "stream",
     "text": [
      "(2293, 13021)\n",
      "(983, 13021)\n",
      "(2293,)\n",
      "(983,)\n"
     ]
    }
   ],
   "source": [
    "from sklearn.cross_validation import train_test_split\n",
    "\n",
    "TRAIN_INPUT, TEST_INPUT, TRAIN_OUTPUT, TEST_OUTPUT = train_test_split(INPUT, OUTPUT, test_size=0.3)\n",
    "\n",
    "print(TRAIN_INPUT.shape)\n",
    "print(TEST_INPUT.shape)\n",
    "\n",
    "print(TRAIN_OUTPUT.shape)\n",
    "print(TEST_OUTPUT.shape)"
   ]
  },
  {
   "cell_type": "markdown",
   "metadata": {},
   "source": [
    "# One last shot!\n",
    "\n",
    "## Support Vector Machines\n",
    "#### Based on the research we made, we decided to use a different model to approach the problem, SVM. This model is known to have a great performance on this kind of predictions."
   ]
  },
  {
   "cell_type": "code",
   "execution_count": 54,
   "metadata": {},
   "outputs": [
    {
     "name": "stdout",
     "output_type": "stream",
     "text": [
      "TRAIN ################################################################################\n",
      "Accuracy: 0.9515918011338858\n",
      "Precision: 0.9516170157269611\n",
      "Recall: 0.9515918011338858\n",
      "\n"
     ]
    },
    {
     "data": {
      "image/png": "[encoded data removed]",
      "text/plain": [
       "<Figure size 216x288 with 1 Axes>"
      ]
     },
     "metadata": {},
     "output_type": "display_data"
    },
    {
     "name": "stdout",
     "output_type": "stream",
     "text": [
      "TEST ################################################################################\n",
      "Accuracy: 0.965412004069176\n",
      "Precision: 0.9654204263531987\n",
      "Recall: 0.965412004069176\n",
      "\n"
     ]
    },
    {
     "data": {
      "image/png": "[encoded data removed]",
      "text/plain": [
       "<Figure size 216x288 with 1 Axes>"
      ]
     },
     "metadata": {},
     "output_type": "display_data"
    }
   ],
   "source": [
    "from sklearn.svm import LinearSVC\n",
    "\n",
    "svc_classifier = LinearSVC()\n",
    "\n",
    "svc_classifier.fit(TRAIN_INPUT, TRAIN_OUTPUT)\n",
    "\n",
    "evaluate_model(lr_classifier)"
   ]
  }
 ],
 "metadata": {
  "kernelspec": {
   "display_name": "Python 3",
   "language": "python",
   "name": "python3"
  },
  "language_info": {
   "codemirror_mode": {
    "name": "ipython",
    "version": 3
   },
   "file_extension": ".py",
   "mimetype": "text/x-python",
   "name": "python",
   "nbconvert_exporter": "python",
   "pygments_lexer": "ipython3",
   "version": "3.5.2"
  }
 },
 "nbformat": 4,
 "nbformat_minor": 2
}
